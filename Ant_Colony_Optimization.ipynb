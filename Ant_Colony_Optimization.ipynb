{
  "nbformat": 4,
  "nbformat_minor": 0,
  "metadata": {
    "colab": {
      "provenance": [],
      "gpuType": "T4"
    },
    "kernelspec": {
      "name": "python3",
      "display_name": "Python 3"
    },
    "language_info": {
      "name": "python"
    },
    "accelerator": "GPU"
  },
  "cells": [
    {
      "cell_type": "markdown",
      "source": [
        "## Ant Colony Optimization for a Multi-Processor Scheduling Problem with JAX"
      ],
      "metadata": {
        "id": "z2agbUQofTuI"
      }
    },
    {
      "cell_type": "code",
      "execution_count": 1,
      "metadata": {
        "id": "uQFAIbMaaxnZ"
      },
      "outputs": [],
      "source": [
        "import jax\n",
        "import jax.numpy as jnp"
      ]
    },
    {
      "cell_type": "code",
      "source": [
        "n_ants, n_machines, n_jobs = (10, 10, 100)\n",
        "eva_coeff = 0.9\n",
        "alpha = 0.01\n",
        "beta = 1 - alpha\n",
        "epochs = 10000"
      ],
      "metadata": {
        "id": "i6EmqnD9aydt"
      },
      "execution_count": 25,
      "outputs": []
    },
    {
      "cell_type": "code",
      "source": [
        "def populate(seed, n_ants, n_machines, n_jobs):\n",
        "\n",
        "    key = jax.random.key(seed)\n",
        "    key, subkey1, subkey2 = jax.random.split(key, 3)\n",
        "\n",
        "    speed = jnp.abs(jax.random.normal(subkey1, shape=(n_machines, )) * 10 + 0.3)\n",
        "    speed = jnp.ones_like(speed)\n",
        "    time = jnp.abs(jax.random.uniform(subkey2, shape=(n_jobs, ), minval=50, maxval=200))\n",
        "\n",
        "    assign_matrices = jnp.ones(shape=(n_ants, n_jobs, n_machines))\n",
        "    pheromones = jnp.ones_like(assign_matrices)\n",
        "    return speed, time, assign_matrices, pheromones"
      ],
      "metadata": {
        "id": "8ixfCJvOa1N2"
      },
      "execution_count": 15,
      "outputs": []
    },
    {
      "cell_type": "code",
      "source": [
        "def assign_path(keys, prob_matrix, n_machines):\n",
        "    def sample_single_job(subkey, prob_vector):\n",
        "        sampled_index = jax.random.categorical(subkey, prob_vector)\n",
        "        return jnp.eye(n_machines, dtype=int)[sampled_index]\n",
        "    return jax.vmap(lambda subkey, prob_vector : jax.vmap(sample_single_job)(subkey, prob_vector))(keys, prob_matrix)"
      ],
      "metadata": {
        "id": "dHom1_a-a4Be"
      },
      "execution_count": 16,
      "outputs": []
    },
    {
      "cell_type": "code",
      "source": [
        "def calculate_cmax(assign_matrices, time, speed):\n",
        "    full_L_k = jnp.dot(time, assign_matrices) / speed\n",
        "    L_k = jnp.max(full_L_k, axis=1)\n",
        "    best_assign_matrix = assign_matrices[jnp.argmin(L_k)]\n",
        "    return full_L_k, L_k, best_assign_matrix"
      ],
      "metadata": {
        "id": "4B2pPrXla5RU"
      },
      "execution_count": 17,
      "outputs": []
    },
    {
      "cell_type": "code",
      "source": [
        "def multiply_batch_by_element(batch, element):\n",
        "    return batch * element\n",
        "\n",
        "deposits_pheromone = jax.vmap(multiply_batch_by_element)"
      ],
      "metadata": {
        "id": "coWymvO2a6Pg"
      },
      "execution_count": 18,
      "outputs": []
    },
    {
      "cell_type": "code",
      "source": [
        "def update_pheromone(\n",
        "    pheromones,\n",
        "    delta_sum_pheromones,\n",
        "    best_assign_matrix_cur,\n",
        "    best_assign_matrix_all,\n",
        "    rate,\n",
        "):\n",
        "    output = (\n",
        "        rate * pheromones\n",
        "        + delta_sum_pheromones * jnp.ones_like(best_assign_matrix_cur)\n",
        "        + delta_sum_pheromones * best_assign_matrix_all\n",
        "        + delta_sum_pheromones * best_assign_matrix_cur\n",
        "    )\n",
        "    return output"
      ],
      "metadata": {
        "id": "WB_fOeEaa7LQ"
      },
      "execution_count": 19,
      "outputs": []
    },
    {
      "cell_type": "code",
      "source": [
        "def update_probability(speed, pheromones, n_ants, n_jobs, a=0.1, b=0.9):\n",
        "    vector = speed / jnp.sum(speed)\n",
        "    matrix_speed = jnp.tile(jnp.tile(vector, (n_jobs, 1)), (n_ants, 1, 1))\n",
        "\n",
        "    sum_machines_pheromone = jnp.sum(pheromones, axis=2)\n",
        "    matrix_pheromone = jax.vmap(\n",
        "        lambda pheromones_inner, sum_mach_phe_inner: jax.vmap(lambda x, y: x / y)(\n",
        "            pheromones_inner, sum_mach_phe_inner\n",
        "        )\n",
        "    )(pheromones, sum_machines_pheromone)\n",
        "\n",
        "    res_temp = (a * matrix_speed) + (b * matrix_pheromone)\n",
        "    return jnp.log(res_temp)"
      ],
      "metadata": {
        "id": "Z4tlxCgrbAWE"
      },
      "execution_count": 20,
      "outputs": []
    },
    {
      "cell_type": "code",
      "source": [
        "min = jnp.inf\n",
        "\n",
        "speed, time, assign_matrices, pheromones = populate(42, n_ants, n_machines, n_jobs)\n",
        "best_assign_matrix_all = jnp.ones_like(assign_matrices[0])\n",
        "\n",
        "i = 0\n",
        "\n",
        "while i < epochs:\n",
        "\n",
        "    probability = update_probability(speed, pheromones, n_ants, n_jobs, a=alpha, b=beta)\n",
        "\n",
        "    i=i+1\n",
        "\n",
        "    key = jax.random.key(i)\n",
        "    keys = jax.random.split(key, n_ants * n_jobs).reshape(n_ants, n_jobs)\n",
        "\n",
        "    assign_matrices = assign_path(keys, probability, n_machines)\n",
        "    full_L_k, L_k, best_assign_matrix_cur = calculate_cmax(assign_matrices, time, speed)\n",
        "\n",
        "    if jnp.min(L_k) < min:\n",
        "        best_assign_matrix_all = best_assign_matrix_cur\n",
        "        min = jnp.min(L_k)\n",
        "        print(f\"Min: {min} at step {i}\\n\")\n",
        "\n",
        "    delta_all_pheromones = deposits_pheromone(assign_matrices, 1 / L_k )\n",
        "    delta_sum_pheromones = jnp.sum(delta_all_pheromones, axis=0)\n",
        "\n",
        "    pheromones = update_pheromone(pheromones, delta_sum_pheromones, best_assign_matrix_cur, best_assign_matrix_all, eva_coeff)\n"
      ],
      "metadata": {
        "colab": {
          "base_uri": "https://localhost:8080/"
        },
        "id": "TMfQw3s-bA7G",
        "outputId": "59dc3d7e-9420-442f-e64e-e7d341d86caa"
      },
      "execution_count": 29,
      "outputs": [
        {
          "output_type": "stream",
          "name": "stdout",
          "text": [
            "Min: 1699.10546875 at step 1\n",
            "\n",
            "Min: 1680.71044921875 at step 2\n",
            "\n",
            "Min: 1571.6370849609375 at step 3\n",
            "\n",
            "Min: 1553.5579833984375 at step 13\n",
            "\n",
            "Min: 1552.834228515625 at step 16\n",
            "\n",
            "Min: 1483.0772705078125 at step 27\n",
            "\n",
            "Min: 1479.481689453125 at step 67\n",
            "\n",
            "Min: 1478.772705078125 at step 118\n",
            "\n",
            "Min: 1464.34423828125 at step 131\n",
            "\n",
            "Min: 1447.124267578125 at step 139\n",
            "\n",
            "Min: 1420.646484375 at step 147\n",
            "\n",
            "Min: 1398.9163818359375 at step 213\n",
            "\n",
            "Min: 1377.923828125 at step 444\n",
            "\n",
            "Min: 1360.058349609375 at step 492\n",
            "\n",
            "Min: 1359.8958740234375 at step 755\n",
            "\n",
            "Min: 1347.81005859375 at step 792\n",
            "\n",
            "Min: 1340.125732421875 at step 1382\n",
            "\n",
            "Min: 1318.53662109375 at step 4723\n",
            "\n",
            "Min: 1296.1610107421875 at step 5877\n",
            "\n",
            "Min: 1292.5955810546875 at step 5947\n",
            "\n",
            "Min: 1271.0244140625 at step 5959\n",
            "\n",
            "Min: 1263.886474609375 at step 6139\n",
            "\n",
            "Min: 1251.10302734375 at step 6181\n",
            "\n",
            "Min: 1247.943359375 at step 6319\n",
            "\n",
            "Min: 1246.190673828125 at step 6834\n",
            "\n",
            "Min: 1243.21484375 at step 7398\n",
            "\n",
            "Min: 1238.64111328125 at step 7577\n",
            "\n"
          ]
        }
      ]
    },
    {
      "cell_type": "code",
      "source": [],
      "metadata": {
        "id": "V5meZ3TptUIc"
      },
      "execution_count": null,
      "outputs": []
    }
  ]
}